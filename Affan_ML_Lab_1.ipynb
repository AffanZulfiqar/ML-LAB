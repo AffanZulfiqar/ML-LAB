{
  "nbformat": 4,
  "nbformat_minor": 0,
  "metadata": {
    "colab": {
      "provenance": []
    },
    "kernelspec": {
      "name": "python3",
      "display_name": "Python 3"
    },
    "language_info": {
      "name": "python"
    }
  },
  "cells": [
    {
      "cell_type": "markdown",
      "source": [
        "## **Name:** Affan Zulfiqar"
      ],
      "metadata": {
        "id": "aDB7Y9EcaXic"
      }
    },
    {
      "cell_type": "markdown",
      "source": [
        "## Lab Tasks\n",
        "### Task 1: Python Basics Review\n",
        "\n"
      ],
      "metadata": {
        "id": "e1AZrJB9WwR9"
      }
    },
    {
      "cell_type": "code",
      "source": [
        "# Defining two variables\n",
        "num = 10\n",
        "message = \"Hello, AI Students\"\n",
        "\n",
        "# if-else statement\n",
        "if num > 5:\n",
        "    print(f\"{num} is greater than 5.\")\n",
        "else:\n",
        "    print(f\"{num} is less than or equal to 5.\")\n",
        "\n",
        "# list\n",
        "my_list = [1, 2, 3, 4, 5]\n",
        "print(my_list[:3])\n",
        "\n",
        "# multiply numbers\n",
        "def multiply(x, y):\n",
        "    result = x * y\n",
        "    print(f\"The result of {x} * {y} is {result}\")\n",
        "multiply(4, 5)"
      ],
      "metadata": {
        "colab": {
          "base_uri": "https://localhost:8080/"
        },
        "id": "0HpSzpohWwC5",
        "outputId": "00093634-44d4-4207-ebea-714d3d42d38e"
      },
      "execution_count": null,
      "outputs": [
        {
          "output_type": "stream",
          "name": "stdout",
          "text": [
            "10 is greater than 5.\n",
            "[1, 2, 3]\n",
            "The result of 4 * 5 is 20\n"
          ]
        }
      ]
    },
    {
      "cell_type": "markdown",
      "source": [
        "### Task 2: NumPy and Pandas"
      ],
      "metadata": {
        "id": "rXIwgK1RWvYU"
      }
    },
    {
      "cell_type": "code",
      "source": [
        "import numpy as np\n",
        "import pandas as pd\n",
        "\n",
        "# mean using numpy\n",
        "array = np.arange(1, 11)\n",
        "mean = np.mean(array)\n",
        "print(\"NumPy array:\", array)\n",
        "print(\"Mean of the array:\", mean)\n",
        "\n",
        "# Pandas DataFrame using a dictionary\n",
        "data = {\n",
        "    'Name': ['Affan', 'Raja', 'Mohiz'],\n",
        "    'Score': [85, 90, 95]\n",
        "}\n",
        "df = pd.DataFrame(data)\n",
        "\n",
        "print(\"First two rows of the DataFrame:\")\n",
        "print(df.head(2))\n"
      ],
      "metadata": {
        "colab": {
          "base_uri": "https://localhost:8080/"
        },
        "id": "21pfbt6pWu9t",
        "outputId": "954271c1-eed1-4ed1-d80c-507024e34b92"
      },
      "execution_count": null,
      "outputs": [
        {
          "output_type": "stream",
          "name": "stdout",
          "text": [
            "NumPy array: [ 1  2  3  4  5  6  7  8  9 10]\n",
            "Mean of the array: 5.5\n",
            "First two rows of the DataFrame:\n",
            "    Name  Score\n",
            "0  Affan     85\n",
            "1   Raja     90\n"
          ]
        }
      ]
    },
    {
      "cell_type": "markdown",
      "source": [
        "### Homework Task 1: Python Functions and Loops\n",
        "\n"
      ],
      "metadata": {
        "id": "-1ilyb9mJMb9"
      }
    },
    {
      "cell_type": "code",
      "source": [
        "def calculate_average(num1, num2, num3):\n",
        "    return (num1 + num2 + num3) / 3\n",
        "\n",
        "num1 = float(input(\"Enter the first number: \"))\n",
        "num2 = float(input(\"Enter the second number: \"))\n",
        "num3 = float(input(\"Enter the third number: \"))\n",
        "average = calculate_average(num1, num2, num3)\n",
        "print(f\"The average of {num1}, {num2}, and {num3} is {average:.2f}\")\n",
        "\n",
        "for num in range(1, 11):\n",
        "    if num % 2 == 0:\n",
        "        print(num)"
      ],
      "metadata": {
        "colab": {
          "base_uri": "https://localhost:8080/"
        },
        "id": "cJxM6jiLJiVV",
        "outputId": "296e2c29-2428-4d49-900b-a3246dfdf14d"
      },
      "execution_count": null,
      "outputs": [
        {
          "output_type": "stream",
          "name": "stdout",
          "text": [
            "Enter the first number: 34\n",
            "Enter the second number: 23\n",
            "Enter the third number: 24\n",
            "The average of 34.0, 23.0, and 24.0 is 27.00\n",
            "2\n",
            "4\n",
            "6\n",
            "8\n",
            "10\n"
          ]
        }
      ]
    },
    {
      "cell_type": "markdown",
      "source": [
        "### Homework Task 2: NumPy and Data Analysis"
      ],
      "metadata": {
        "id": "WzHC5LHJSOTP"
      }
    },
    {
      "cell_type": "code",
      "source": [
        "import numpy as np\n",
        "import pandas as pd\n",
        "arr = np.random.randint(1, 101, 10)\n",
        "std_dev = np.std(arr)\n",
        "print(\"Array:\", arr)\n",
        "print(\"Standard Deviation:\", std_dev)\n",
        "\n",
        "df = pd.read_csv('email.csv')\n",
        "print(\"Column Names:\", df.columns)\n",
        "print(\"\\nSummary Statistics:\")\n",
        "print(df.describe())"
      ],
      "metadata": {
        "colab": {
          "base_uri": "https://localhost:8080/"
        },
        "id": "IsPys1ygSdTT",
        "outputId": "9191dbe6-3dbf-49a4-e6f3-bd81f7c79d39"
      },
      "execution_count": null,
      "outputs": [
        {
          "output_type": "stream",
          "name": "stdout",
          "text": [
            "Array: [45  2 65 61 57 99  6 21  9 23]\n",
            "Standard Deviation: 30.095846889562686\n",
            "Column Names: Index(['Category', 'Message'], dtype='object')\n",
            "\n",
            "Summary Statistics:\n",
            "       Category                 Message\n",
            "count      5572                    5572\n",
            "unique        2                    5157\n",
            "top         ham  Sorry, I'll call later\n",
            "freq       4825                      30\n"
          ]
        }
      ]
    },
    {
      "cell_type": "markdown",
      "source": [
        "# Additional Tasks:"
      ],
      "metadata": {
        "id": "4EhOtR7Hn1VG"
      }
    },
    {
      "cell_type": "markdown",
      "source": [
        "### Task 1"
      ],
      "metadata": {
        "id": "uB4GmSJkHToS"
      }
    },
    {
      "cell_type": "code",
      "execution_count": null,
      "metadata": {
        "colab": {
          "base_uri": "https://localhost:8080/"
        },
        "id": "bWWx7366Vi4L",
        "outputId": "25f8124f-674b-4e56-ba9c-44ba4170d506"
      },
      "outputs": [
        {
          "output_type": "stream",
          "name": "stdout",
          "text": [
            "Enter your first name: Affan\n",
            "Enter your last name: Zulfiqar\n",
            "Welcome, Affan Zulfiqar!\n",
            "HARIPUR\n",
            "LARKANA\n",
            "ABBOTTABAD\n",
            "MANSEHRA\n",
            "KARACHI\n"
          ]
        }
      ],
      "source": [
        "# Task 1: Part 1\n",
        "first_name = input(\"Enter your first name: \")\n",
        "last_name = input(\"Enter your last name: \")\n",
        "full_name = f\"{first_name} {last_name}\"\n",
        "print(f\"Welcome, {full_name}!\")\n",
        "\n",
        "# Task 1: Part 2\n",
        "cities = ['Haripur', 'Larkana', 'Abbottabad', 'Mansehra', 'Karachi']\n",
        "for city in cities:\n",
        "    print(city.upper())"
      ]
    },
    {
      "cell_type": "markdown",
      "source": [
        "### Task 2"
      ],
      "metadata": {
        "id": "Kj2P8r5MHej-"
      }
    },
    {
      "cell_type": "code",
      "source": [
        "# Part 1\n",
        "def find_max(numbers):\n",
        "    return max(numbers)\n",
        "\n",
        "# Part 2\n",
        "def is_prime(n):\n",
        "    if n <= 1:\n",
        "        return False\n",
        "    for i in range(2, int(n**0.5) + 1):\n",
        "        if n % i == 0:\n",
        "            return False\n",
        "    return True\n",
        "\n",
        "# Part 3\n",
        "for num in range(1, 21):\n",
        "    if is_prime(num):\n",
        "        print(f\"{num} is a prime number.\")\n",
        "    else:\n",
        "        print(f\"{num} is not a prime number.\")\n"
      ],
      "metadata": {
        "colab": {
          "base_uri": "https://localhost:8080/"
        },
        "id": "7alH211NExwr",
        "outputId": "1733010f-d6bc-4ecc-83ef-7577730e3bb2"
      },
      "execution_count": null,
      "outputs": [
        {
          "output_type": "stream",
          "name": "stdout",
          "text": [
            "1 is not a prime number.\n",
            "2 is a prime number.\n",
            "3 is a prime number.\n",
            "4 is not a prime number.\n",
            "5 is a prime number.\n",
            "6 is not a prime number.\n",
            "7 is a prime number.\n",
            "8 is not a prime number.\n",
            "9 is not a prime number.\n",
            "10 is not a prime number.\n",
            "11 is a prime number.\n",
            "12 is not a prime number.\n",
            "13 is a prime number.\n",
            "14 is not a prime number.\n",
            "15 is not a prime number.\n",
            "16 is not a prime number.\n",
            "17 is a prime number.\n",
            "18 is not a prime number.\n",
            "19 is a prime number.\n",
            "20 is not a prime number.\n"
          ]
        }
      ]
    },
    {
      "cell_type": "markdown",
      "source": [
        "### Task 3"
      ],
      "metadata": {
        "id": "cSGAEQ3zHtfJ"
      }
    },
    {
      "cell_type": "code",
      "source": [
        "import numpy as np\n",
        "\n",
        "# Part 1\n",
        "arr = np.random.randint(1, 51, 10)\n",
        "\n",
        "# Part 2\n",
        "arr_sum = np.sum(arr)\n",
        "arr_mean = np.mean(arr)\n",
        "arr_std = np.std(arr)\n",
        "\n",
        "print(\"Array:\", arr)\n",
        "print(\"Sum:\", arr_sum)\n",
        "print(\"Mean:\", arr_mean)\n",
        "print(\"Standard Deviation:\", arr_std)\n",
        "\n",
        "# Part 3\n",
        "arr_sorted = np.sort(arr)\n",
        "print(\"Sorted Array:\", arr_sorted)\n"
      ],
      "metadata": {
        "colab": {
          "base_uri": "https://localhost:8080/"
        },
        "id": "RFirb-XlHvJF",
        "outputId": "6dd50cf1-f1cd-4012-baad-24f821b8a874"
      },
      "execution_count": null,
      "outputs": [
        {
          "output_type": "stream",
          "name": "stdout",
          "text": [
            "Array: [20 20  8 24 25  5 24  5 43 12]\n",
            "Sum: 186\n",
            "Mean: 18.6\n",
            "Standard Deviation: 11.065260954898442\n",
            "Sorted Array: [ 5  5  8 12 20 20 24 24 25 43]\n"
          ]
        }
      ]
    },
    {
      "cell_type": "markdown",
      "source": [
        "### Task 4"
      ],
      "metadata": {
        "id": "RuxmOkvaIcwy"
      }
    },
    {
      "cell_type": "code",
      "source": [
        "import pandas as pd\n",
        "\n",
        "# Part 1 and 2\n",
        "data = {\n",
        "    'Name': ['Ali', 'Tanveer', 'Zaryab', 'Affan', 'Rafay'],\n",
        "    'Age': [20, 22, 21, 23, 19],\n",
        "    'Score': [85, 65, 90, 72, 68]\n",
        "}\n",
        "df = pd.DataFrame(data)\n",
        "# Part 3\n",
        "average_score = df['Score'].mean()\n",
        "print(f\"Average Score: {average_score}\")\n",
        "passed_students = df[df['Score'] >= 70]\n",
        "# Part 4\n",
        "print(\"Students who passed:\")\n",
        "print(passed_students['Name'])\n"
      ],
      "metadata": {
        "colab": {
          "base_uri": "https://localhost:8080/"
        },
        "id": "VeHZslmmIfOo",
        "outputId": "3e696cb7-7620-4f00-efda-2a8bad579487"
      },
      "execution_count": null,
      "outputs": [
        {
          "output_type": "stream",
          "name": "stdout",
          "text": [
            "Average Score: 76.0\n",
            "Students who passed:\n",
            "0       Ali\n",
            "2    Zaryab\n",
            "3     Affan\n",
            "Name: Name, dtype: object\n"
          ]
        }
      ]
    },
    {
      "cell_type": "markdown",
      "source": [
        "### Task 5"
      ],
      "metadata": {
        "id": "sW_cOtyOI46V"
      }
    },
    {
      "cell_type": "code",
      "source": [
        "def fibonacci(n):\n",
        "    fib_seq = [0, 1]\n",
        "    for i in range(2, n):\n",
        "        next_num = fib_seq[i-1] + fib_seq[i-2]\n",
        "        fib_seq.append(next_num)\n",
        "    return fib_seq\n",
        "\n",
        "fib_10 = fibonacci(10)\n",
        "print(fib_10)"
      ],
      "metadata": {
        "colab": {
          "base_uri": "https://localhost:8080/"
        },
        "id": "_nlpf7UsI6i6",
        "outputId": "ab2b337c-3e7b-4447-abec-70669932e105"
      },
      "execution_count": null,
      "outputs": [
        {
          "output_type": "stream",
          "name": "stdout",
          "text": [
            "[0, 1, 1, 2, 3, 5, 8, 13, 21, 34]\n"
          ]
        }
      ]
    }
  ]
}