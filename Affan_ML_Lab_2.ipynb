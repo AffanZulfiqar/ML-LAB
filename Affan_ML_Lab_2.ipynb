{
  "cells": [
    {
      "cell_type": "markdown",
      "source": [
        "## **Name:** Affan Zulfiqar\n",
        "## **Reg No:** B22F0144AI050\n",
        "## **Course:** Machine Learning Lab (2)\n"
      ],
      "metadata": {
        "id": "F-k_hFLJW9Ov"
      }
    },
    {
      "cell_type": "markdown",
      "metadata": {
        "id": "KcvvR2JK_sSQ"
      },
      "source": [
        "# **EXCERSICE 2**"
      ]
    },
    {
      "cell_type": "markdown",
      "metadata": {
        "id": "KVpao88__sSS"
      },
      "source": [
        "This exercise will test your ability to read a data file and understand statistics about the data.\n",
        "\n",
        "In later exercises, you will apply techniques to filter the data, build a machine learning model, and iteratively improve your model.\n",
        "\n",
        "The course examples use data from Melbourne. To ensure you can apply these techniques on your own, you will have to apply them to a new dataset (with house prices from Iowa).\n",
        "\n",
        "The exercises use a \"notebook\" coding environment.  In case you are unfamiliar with notebooks, we have a [90-second intro video](https://www.youtube.com/watch?v=4C2qMnaIKL4).\n",
        "\n",
        "# Exercises\n",
        "\n",
        "Run the following cell to set up code-checking, which will verify your work as you go."
      ]
    },
    {
      "cell_type": "code",
      "execution_count": null,
      "metadata": {
        "execution": {
          "iopub.execute_input": "2024-09-18T05:57:44.750005Z",
          "iopub.status.busy": "2024-09-18T05:57:44.749612Z",
          "iopub.status.idle": "2024-09-18T05:57:45.216140Z",
          "shell.execute_reply": "2024-09-18T05:57:45.215378Z",
          "shell.execute_reply.started": "2024-09-18T05:57:44.749970Z"
        },
        "id": "mTJDwhwf_sSS",
        "outputId": "f1a30674-8928-45f0-8751-10989eae0f2b"
      },
      "outputs": [
        {
          "name": "stdout",
          "output_type": "stream",
          "text": [
            "Setup Complete\n"
          ]
        }
      ],
      "source": [
        "# Set up code checking\n",
        "from learntools.core import binder\n",
        "binder.bind(globals())\n",
        "from learntools.machine_learning.ex2 import *\n",
        "print(\"Setup Complete\")"
      ]
    },
    {
      "cell_type": "markdown",
      "metadata": {
        "id": "ghKw9G5c_sSU"
      },
      "source": [
        "## Step 1: Loading Data\n",
        "Read the Iowa data file into a Pandas DataFrame called `home_data`."
      ]
    },
    {
      "cell_type": "code",
      "execution_count": null,
      "metadata": {
        "execution": {
          "iopub.execute_input": "2024-09-18T06:00:30.586705Z",
          "iopub.status.busy": "2024-09-18T06:00:30.586274Z",
          "iopub.status.idle": "2024-09-18T06:00:30.647483Z",
          "shell.execute_reply": "2024-09-18T06:00:30.646733Z",
          "shell.execute_reply.started": "2024-09-18T06:00:30.586668Z"
        },
        "id": "50mPFmLC_sSU",
        "outputId": "0ac10245-74db-4791-9e63-3d9106de14bb"
      },
      "outputs": [
        {
          "data": {
            "application/javascript": [
              "parent.postMessage({\"jupyterEvent\": \"custom.exercise_interaction\", \"data\": {\"outcomeType\": 1, \"valueTowardsCompletion\": 0.5, \"interactionType\": 1, \"questionType\": 1, \"questionId\": \"1_LoadHomeData\", \"learnToolsVersion\": \"0.3.4\", \"failureMessage\": \"\", \"exceptionClass\": \"\", \"trace\": \"\"}}, \"*\")"
            ],
            "text/plain": [
              "<IPython.core.display.Javascript object>"
            ]
          },
          "metadata": {},
          "output_type": "display_data"
        },
        {
          "data": {
            "text/markdown": [
              "<span style=\"color:#33cc33\">Correct</span>"
            ],
            "text/plain": [
              "Correct"
            ]
          },
          "metadata": {},
          "output_type": "display_data"
        }
      ],
      "source": [
        "import pandas as pd\n",
        "\n",
        "# Path of the file to read\n",
        "iowa_file_path = '../input/home-data-for-ml-course/train.csv'\n",
        "\n",
        "# Fill in the line below to read the file into a variable home_data\n",
        "home_data = pd.read_csv(iowa_file_path)\n",
        "\n",
        "# Call line below with no argument to check that you've loaded the data correctly\n",
        "step_1.check()"
      ]
    },
    {
      "cell_type": "code",
      "execution_count": null,
      "metadata": {
        "execution": {
          "iopub.execute_input": "2024-09-18T06:01:22.152585Z",
          "iopub.status.busy": "2024-09-18T06:01:22.152175Z",
          "iopub.status.idle": "2024-09-18T06:01:22.156830Z",
          "shell.execute_reply": "2024-09-18T06:01:22.156042Z",
          "shell.execute_reply.started": "2024-09-18T06:01:22.152547Z"
        },
        "id": "s_rB3ccI_sSU"
      },
      "outputs": [],
      "source": [
        "# Lines below will give you a hint or solution code\n",
        "#step_1.hint()\n",
        "#step_1.solution()"
      ]
    },
    {
      "cell_type": "markdown",
      "metadata": {
        "id": "PxsiAgsL_sSV"
      },
      "source": [
        "## Step 2: Review The Data\n",
        "Use the command you learned to view summary statistics of the data. Then fill in variables to answer the following questions"
      ]
    },
    {
      "cell_type": "code",
      "execution_count": null,
      "metadata": {
        "execution": {
          "iopub.execute_input": "2024-09-18T06:01:24.742111Z",
          "iopub.status.busy": "2024-09-18T06:01:24.741707Z",
          "iopub.status.idle": "2024-09-18T06:01:24.749657Z",
          "shell.execute_reply": "2024-09-18T06:01:24.748488Z",
          "shell.execute_reply.started": "2024-09-18T06:01:24.742075Z"
        },
        "id": "M_vwlmhc_sSV",
        "outputId": "6f46c9c9-fa78-41dd-9957-667407b6a20e"
      },
      "outputs": [
        {
          "data": {
            "text/markdown": [],
            "text/plain": [
              "<learntools.core.constants.PlaceholderValue at 0x7e3bfc7793c0>"
            ]
          },
          "execution_count": 10,
          "metadata": {},
          "output_type": "execute_result"
        }
      ],
      "source": [
        "# Print summary statistics in next line\n",
        "____"
      ]
    },
    {
      "cell_type": "code",
      "execution_count": null,
      "metadata": {
        "execution": {
          "iopub.execute_input": "2024-09-18T06:02:03.925486Z",
          "iopub.status.busy": "2024-09-18T06:02:03.925059Z",
          "iopub.status.idle": "2024-09-18T06:02:03.937783Z",
          "shell.execute_reply": "2024-09-18T06:02:03.936965Z",
          "shell.execute_reply.started": "2024-09-18T06:02:03.925449Z"
        },
        "id": "oxH9eS46_sSV",
        "outputId": "989b8d49-d97c-4079-beb6-52850e7c1476"
      },
      "outputs": [
        {
          "data": {
            "application/javascript": [
              "parent.postMessage({\"jupyterEvent\": \"custom.exercise_interaction\", \"data\": {\"outcomeType\": 1, \"valueTowardsCompletion\": 0.5, \"interactionType\": 1, \"questionType\": 1, \"questionId\": \"2_HomeDescription\", \"learnToolsVersion\": \"0.3.4\", \"failureMessage\": \"\", \"exceptionClass\": \"\", \"trace\": \"\"}}, \"*\")"
            ],
            "text/plain": [
              "<IPython.core.display.Javascript object>"
            ]
          },
          "metadata": {},
          "output_type": "display_data"
        },
        {
          "data": {
            "text/markdown": [
              "<span style=\"color:#33cc33\">Correct</span>"
            ],
            "text/plain": [
              "Correct"
            ]
          },
          "metadata": {},
          "output_type": "display_data"
        }
      ],
      "source": [
        "# What is the average lot size (rounded to nearest integer)?\n",
        "avg_lot_size =10517\n",
        "\n",
        "# As of today, how old is the newest home (current year - the date in which it was built)\n",
        "newest_home_age = 14\n",
        "# Checks your answers\n",
        "step_2.check()"
      ]
    },
    {
      "cell_type": "code",
      "execution_count": null,
      "metadata": {
        "execution": {
          "iopub.execute_input": "2024-09-18T06:02:12.265201Z",
          "iopub.status.busy": "2024-09-18T06:02:12.264814Z",
          "iopub.status.idle": "2024-09-18T06:02:12.269479Z",
          "shell.execute_reply": "2024-09-18T06:02:12.268652Z",
          "shell.execute_reply.started": "2024-09-18T06:02:12.265168Z"
        },
        "id": "LWGx2iTa_sSV"
      },
      "outputs": [],
      "source": [
        "#step_2.hint()\n",
        "#step_2.solution()"
      ]
    },
    {
      "cell_type": "markdown",
      "metadata": {
        "id": "EZvsIrGe_sSV"
      },
      "source": [
        "## Think About Your Data\n",
        "\n",
        "The newest house in your data isn't that new.  A few potential explanations for this:\n",
        "1. They haven't built new houses where this data was collected.\n",
        "1. The data was collected a long time ago. Houses built after the data publication wouldn't show up.\n",
        "\n",
        "If the reason is explanation #1 above, does that affect your trust in the model you build with this data? What about if it is reason #2?\n",
        "\n",
        "How could you dig into the data to see which explanation is more plausible?\n",
        "\n",
        "Check out this **[discussion thread](https://www.kaggle.com/learn-forum/60581)** to see what others think or to add your ideas.\n",
        "\n",
        "# Keep Going\n",
        "\n",
        "You are ready for **[Your First Machine Learning Model](https://www.kaggle.com/dansbecker/your-first-machine-learning-model).**\n"
      ]
    },
    {
      "cell_type": "markdown",
      "metadata": {
        "id": "wj83vOGP_sSW"
      },
      "source": [
        "# **EXCERSICE 3**"
      ]
    },
    {
      "cell_type": "code",
      "execution_count": null,
      "metadata": {
        "execution": {
          "iopub.execute_input": "2024-09-18T06:21:16.132042Z",
          "iopub.status.busy": "2024-09-18T06:21:16.131493Z",
          "iopub.status.idle": "2024-09-18T06:21:16.899577Z",
          "shell.execute_reply": "2024-09-18T06:21:16.898802Z",
          "shell.execute_reply.started": "2024-09-18T06:21:16.131997Z"
        },
        "id": "tIkpB1wd_sSW",
        "outputId": "0ff72949-a43d-4744-f2fb-4db6612bc911"
      },
      "outputs": [
        {
          "name": "stdout",
          "output_type": "stream",
          "text": [
            "Setup Complete\n"
          ]
        }
      ],
      "source": [
        "# Code you have previously used to load data\n",
        "import pandas as pd\n",
        "\n",
        "# Path of the file to read\n",
        "iowa_file_path = '../input/home-data-for-ml-course/train.csv'\n",
        "\n",
        "home_data = pd.read_csv(iowa_file_path)\n",
        "\n",
        "# Set up code checking\n",
        "from learntools.core import binder\n",
        "binder.bind(globals())\n",
        "from learntools.machine_learning.ex3 import *\n",
        "\n",
        "print(\"Setup Complete\")"
      ]
    },
    {
      "cell_type": "markdown",
      "metadata": {
        "id": "oqrWWJKS_sSW"
      },
      "source": [
        "# Exercises\n",
        "\n",
        "## Step 1: Specify Prediction Target\n",
        "Select the target variable, which corresponds to the sales price. Save this to a new variable called `y`. You'll need to print a list of the columns to find the name of the column you need.\n"
      ]
    },
    {
      "cell_type": "code",
      "execution_count": null,
      "metadata": {
        "execution": {
          "iopub.execute_input": "2024-09-18T06:21:16.905462Z",
          "iopub.status.busy": "2024-09-18T06:21:16.903565Z",
          "iopub.status.idle": "2024-09-18T06:21:16.915641Z",
          "shell.execute_reply": "2024-09-18T06:21:16.914838Z",
          "shell.execute_reply.started": "2024-09-18T06:21:16.905425Z"
        },
        "id": "WViLAA5Z_sSW"
      },
      "outputs": [],
      "source": [
        "# print the list of columns in the dataset to find the name of the prediction target\n",
        "y = home_data.SalePrice"
      ]
    },
    {
      "cell_type": "code",
      "execution_count": null,
      "metadata": {
        "execution": {
          "iopub.execute_input": "2024-09-18T06:21:16.922452Z",
          "iopub.status.busy": "2024-09-18T06:21:16.919921Z",
          "iopub.status.idle": "2024-09-18T06:21:16.938226Z",
          "shell.execute_reply": "2024-09-18T06:21:16.937084Z",
          "shell.execute_reply.started": "2024-09-18T06:21:16.922412Z"
        },
        "id": "tlFRTLqL_sSX",
        "outputId": "15b457b6-b2c7-4f4b-cee1-c7237aba40a9"
      },
      "outputs": [
        {
          "data": {
            "application/javascript": [
              "parent.postMessage({\"jupyterEvent\": \"custom.exercise_interaction\", \"data\": {\"outcomeType\": 1, \"valueTowardsCompletion\": 0.25, \"interactionType\": 1, \"questionType\": 2, \"questionId\": \"1_SetTarget\", \"learnToolsVersion\": \"0.3.4\", \"failureMessage\": \"\", \"exceptionClass\": \"\", \"trace\": \"\"}}, \"*\")"
            ],
            "text/plain": [
              "<IPython.core.display.Javascript object>"
            ]
          },
          "metadata": {},
          "output_type": "display_data"
        },
        {
          "data": {
            "text/markdown": [
              "<span style=\"color:#33cc33\">Correct</span>"
            ],
            "text/plain": [
              "Correct"
            ]
          },
          "metadata": {},
          "output_type": "display_data"
        }
      ],
      "source": [
        "y =home_data.SalePrice\n",
        "\n",
        "# Check your answer\n",
        "step_1.check()"
      ]
    },
    {
      "cell_type": "markdown",
      "metadata": {
        "id": "RBuJBCtz_sSX"
      },
      "source": []
    },
    {
      "cell_type": "code",
      "execution_count": null,
      "metadata": {
        "execution": {
          "iopub.execute_input": "2024-09-18T06:21:16.946893Z",
          "iopub.status.busy": "2024-09-18T06:21:16.943332Z",
          "iopub.status.idle": "2024-09-18T06:21:16.951926Z",
          "shell.execute_reply": "2024-09-18T06:21:16.951079Z",
          "shell.execute_reply.started": "2024-09-18T06:21:16.946854Z"
        },
        "id": "vCZYShLN_sSX"
      },
      "outputs": [],
      "source": [
        "# The lines below will show you a hint or the solution.\n",
        "# step_1.hint()\n",
        "# step_1.solution()"
      ]
    },
    {
      "cell_type": "markdown",
      "metadata": {
        "id": "70DXHCqE_sSX"
      },
      "source": [
        "## Step 2: Create X\n",
        "Now you will create a DataFrame called `X` holding the predictive features.\n",
        "\n",
        "Since you want only some columns from the original data, you'll first create a list with the names of the columns you want in `X`.\n",
        "\n",
        "You'll use just the following columns in the list (you can copy and paste the whole list to save some typing, though you'll still need to add quotes):\n",
        "  * LotArea\n",
        "  * YearBuilt\n",
        "  * 1stFlrSF\n",
        "  * 2ndFlrSF\n",
        "  * FullBath\n",
        "  * BedroomAbvGr\n",
        "  * TotRmsAbvGrd\n",
        "\n",
        "After you've created that list of features, use it to create the DataFrame that you'll use to fit the model."
      ]
    },
    {
      "cell_type": "code",
      "execution_count": null,
      "metadata": {
        "execution": {
          "iopub.execute_input": "2024-09-18T06:21:16.957615Z",
          "iopub.status.busy": "2024-09-18T06:21:16.955116Z",
          "iopub.status.idle": "2024-09-18T06:21:16.978575Z",
          "shell.execute_reply": "2024-09-18T06:21:16.977850Z",
          "shell.execute_reply.started": "2024-09-18T06:21:16.957578Z"
        },
        "id": "wDrJFXm5_sSX",
        "outputId": "af87a580-75a4-41d1-e2f1-087447849a1c"
      },
      "outputs": [
        {
          "data": {
            "application/javascript": [
              "parent.postMessage({\"jupyterEvent\": \"custom.exercise_interaction\", \"data\": {\"outcomeType\": 1, \"valueTowardsCompletion\": 0.25, \"interactionType\": 1, \"questionType\": 2, \"questionId\": \"2_SelectPredictionData\", \"learnToolsVersion\": \"0.3.4\", \"failureMessage\": \"\", \"exceptionClass\": \"\", \"trace\": \"\"}}, \"*\")"
            ],
            "text/plain": [
              "<IPython.core.display.Javascript object>"
            ]
          },
          "metadata": {},
          "output_type": "display_data"
        },
        {
          "data": {
            "text/markdown": [
              "<span style=\"color:#33cc33\">Correct</span>"
            ],
            "text/plain": [
              "Correct"
            ]
          },
          "metadata": {},
          "output_type": "display_data"
        }
      ],
      "source": [
        "# Create the list of features below\n",
        "feature_names = ['LotArea','YearBuilt','1stFlrSF','2ndFlrSF','FullBath','BedroomAbvGr','TotRmsAbvGrd']\n",
        "\n",
        "# Select data corresponding to features in feature_names\n",
        "X = home_data[feature_names]\n",
        "\n",
        "# Check your answer\n",
        "step_2.check()"
      ]
    },
    {
      "cell_type": "code",
      "execution_count": null,
      "metadata": {
        "execution": {
          "iopub.execute_input": "2024-09-18T06:21:16.983922Z",
          "iopub.status.busy": "2024-09-18T06:21:16.982086Z",
          "iopub.status.idle": "2024-09-18T06:21:16.988808Z",
          "shell.execute_reply": "2024-09-18T06:21:16.987969Z",
          "shell.execute_reply.started": "2024-09-18T06:21:16.983884Z"
        },
        "id": "xlCjtm6c_sSX"
      },
      "outputs": [],
      "source": [
        "# step_2.check()\n",
        "#step_2.solution()"
      ]
    },
    {
      "cell_type": "markdown",
      "metadata": {
        "id": "tbm8tnmr_sSY"
      },
      "source": [
        "## Review Data\n",
        "Before building a model, take a quick look at **X** to verify it looks sensible"
      ]
    },
    {
      "cell_type": "code",
      "execution_count": null,
      "metadata": {
        "execution": {
          "iopub.execute_input": "2024-09-18T06:21:16.991827Z",
          "iopub.status.busy": "2024-09-18T06:21:16.990269Z",
          "iopub.status.idle": "2024-09-18T06:21:17.012052Z",
          "shell.execute_reply": "2024-09-18T06:21:17.011301Z",
          "shell.execute_reply.started": "2024-09-18T06:21:16.991789Z"
        },
        "id": "yau-qdXp_sSY",
        "outputId": "dbe2648c-0d92-4466-b000-a66214ec7f2c"
      },
      "outputs": [
        {
          "name": "stdout",
          "output_type": "stream",
          "text": [
            "      LotArea  YearBuilt  1stFlrSF  2ndFlrSF  FullBath  BedroomAbvGr  \\\n",
            "0        8450       2003       856       854         2             3   \n",
            "1        9600       1976      1262         0         2             3   \n",
            "2       11250       2001       920       866         2             3   \n",
            "3        9550       1915       961       756         1             3   \n",
            "4       14260       2000      1145      1053         2             4   \n",
            "...       ...        ...       ...       ...       ...           ...   \n",
            "1455     7917       1999       953       694         2             3   \n",
            "1456    13175       1978      2073         0         2             3   \n",
            "1457     9042       1941      1188      1152         2             4   \n",
            "1458     9717       1950      1078         0         1             2   \n",
            "1459     9937       1965      1256         0         1             3   \n",
            "\n",
            "      TotRmsAbvGrd  \n",
            "0                8  \n",
            "1                6  \n",
            "2                6  \n",
            "3                7  \n",
            "4                9  \n",
            "...            ...  \n",
            "1455             7  \n",
            "1456             7  \n",
            "1457             9  \n",
            "1458             5  \n",
            "1459             6  \n",
            "\n",
            "[1460 rows x 7 columns]\n",
            "<bound method NDFrame.tail of       LotArea  YearBuilt  1stFlrSF  2ndFlrSF  FullBath  BedroomAbvGr  \\\n",
            "0        8450       2003       856       854         2             3   \n",
            "1        9600       1976      1262         0         2             3   \n",
            "2       11250       2001       920       866         2             3   \n",
            "3        9550       1915       961       756         1             3   \n",
            "4       14260       2000      1145      1053         2             4   \n",
            "...       ...        ...       ...       ...       ...           ...   \n",
            "1455     7917       1999       953       694         2             3   \n",
            "1456    13175       1978      2073         0         2             3   \n",
            "1457     9042       1941      1188      1152         2             4   \n",
            "1458     9717       1950      1078         0         1             2   \n",
            "1459     9937       1965      1256         0         1             3   \n",
            "\n",
            "      TotRmsAbvGrd  \n",
            "0                8  \n",
            "1                6  \n",
            "2                6  \n",
            "3                7  \n",
            "4                9  \n",
            "...            ...  \n",
            "1455             7  \n",
            "1456             7  \n",
            "1457             9  \n",
            "1458             5  \n",
            "1459             6  \n",
            "\n",
            "[1460 rows x 7 columns]>\n"
          ]
        }
      ],
      "source": [
        "# Review data\n",
        "# print description or statistics from X\n",
        "print(X)\n",
        "\n",
        "# print the top few lines\n",
        "print(X.tail)"
      ]
    },
    {
      "cell_type": "markdown",
      "metadata": {
        "id": "BqNajpUh_sSY"
      },
      "source": [
        "## Step 3: Specify and Fit Model\n",
        "Create a `DecisionTreeRegressor` and save it iowa_model. Ensure you've done the relevant import from sklearn to run this command.\n",
        "\n",
        "Then fit the model you just created using the data in `X` and `y` that you saved above."
      ]
    },
    {
      "cell_type": "code",
      "execution_count": null,
      "metadata": {
        "execution": {
          "iopub.execute_input": "2024-09-18T06:21:30.846559Z",
          "iopub.status.busy": "2024-09-18T06:21:30.846174Z",
          "iopub.status.idle": "2024-09-18T06:21:30.886767Z",
          "shell.execute_reply": "2024-09-18T06:21:30.885981Z",
          "shell.execute_reply.started": "2024-09-18T06:21:30.846525Z"
        },
        "id": "7zYaRdCF_sSY",
        "outputId": "05684fa3-1adc-4dce-a225-cec3ea432000"
      },
      "outputs": [
        {
          "data": {
            "application/javascript": [
              "parent.postMessage({\"jupyterEvent\": \"custom.exercise_interaction\", \"data\": {\"outcomeType\": 1, \"valueTowardsCompletion\": 0.25, \"interactionType\": 1, \"questionType\": 2, \"questionId\": \"3_CreateModel\", \"learnToolsVersion\": \"0.3.4\", \"failureMessage\": \"\", \"exceptionClass\": \"\", \"trace\": \"\"}}, \"*\")"
            ],
            "text/plain": [
              "<IPython.core.display.Javascript object>"
            ]
          },
          "metadata": {},
          "output_type": "display_data"
        },
        {
          "data": {
            "text/markdown": [
              "<span style=\"color:#33cc33\">Correct</span>"
            ],
            "text/plain": [
              "Correct"
            ]
          },
          "metadata": {},
          "output_type": "display_data"
        }
      ],
      "source": [
        "from sklearn.tree import DecisionTreeRegressor\n",
        "#specify the model.\n",
        "#For model reproducibility, set a numeric value for random_state when specifying the model\n",
        "iowa_model = DecisionTreeRegressor(random_state=1)\n",
        "\n",
        "# Fit the model\n",
        "iowa_model.fit(X,y)\n",
        "\n",
        "# Check your answer\n",
        "step_3.check()"
      ]
    },
    {
      "cell_type": "code",
      "execution_count": null,
      "metadata": {
        "execution": {
          "iopub.execute_input": "2024-09-18T06:26:52.332036Z",
          "iopub.status.busy": "2024-09-18T06:26:52.331594Z",
          "iopub.status.idle": "2024-09-18T06:26:52.336261Z",
          "shell.execute_reply": "2024-09-18T06:26:52.335402Z",
          "shell.execute_reply.started": "2024-09-18T06:26:52.332000Z"
        },
        "id": "ugGBL031_sSY"
      },
      "outputs": [],
      "source": [
        "#step_3.check()\n",
        "# step_3.solution()"
      ]
    },
    {
      "cell_type": "markdown",
      "metadata": {
        "id": "xN4fEiag_sSY"
      },
      "source": [
        "## Step 4: Make Predictions\n",
        "Make predictions with the model's `predict` command using `X` as the data. Save the results to a variable called `predictions`."
      ]
    },
    {
      "cell_type": "code",
      "execution_count": null,
      "metadata": {
        "execution": {
          "iopub.execute_input": "2024-09-18T06:26:27.744949Z",
          "iopub.status.busy": "2024-09-18T06:26:27.744532Z",
          "iopub.status.idle": "2024-09-18T06:26:27.766202Z",
          "shell.execute_reply": "2024-09-18T06:26:27.765456Z",
          "shell.execute_reply.started": "2024-09-18T06:26:27.744912Z"
        },
        "id": "SU8ccSrs_sSY",
        "outputId": "7fc5a213-46a2-4730-c5f7-020ac7c14083"
      },
      "outputs": [
        {
          "name": "stdout",
          "output_type": "stream",
          "text": [
            "[208500. 181500. 223500. ... 266500. 142125. 147500.]\n"
          ]
        },
        {
          "data": {
            "application/javascript": [
              "parent.postMessage({\"jupyterEvent\": \"custom.exercise_interaction\", \"data\": {\"outcomeType\": 1, \"valueTowardsCompletion\": 0.25, \"interactionType\": 1, \"questionType\": 2, \"questionId\": \"4_MakePredictions\", \"learnToolsVersion\": \"0.3.4\", \"failureMessage\": \"\", \"exceptionClass\": \"\", \"trace\": \"\"}}, \"*\")"
            ],
            "text/plain": [
              "<IPython.core.display.Javascript object>"
            ]
          },
          "metadata": {},
          "output_type": "display_data"
        },
        {
          "data": {
            "text/markdown": [
              "<span style=\"color:#33cc33\">Correct</span>"
            ],
            "text/plain": [
              "Correct"
            ]
          },
          "metadata": {},
          "output_type": "display_data"
        }
      ],
      "source": [
        "predictions = iowa_model.predict(X)\n",
        "print(predictions)\n",
        "\n",
        "# Check your answer\n",
        "step_4.check()"
      ]
    },
    {
      "cell_type": "code",
      "execution_count": null,
      "metadata": {
        "execution": {
          "iopub.execute_input": "2024-09-18T06:26:35.695898Z",
          "iopub.status.busy": "2024-09-18T06:26:35.695508Z",
          "iopub.status.idle": "2024-09-18T06:26:35.702918Z",
          "shell.execute_reply": "2024-09-18T06:26:35.701973Z",
          "shell.execute_reply.started": "2024-09-18T06:26:35.695864Z"
        },
        "id": "QZNrArVG_sSY"
      },
      "outputs": [],
      "source": [
        "#step_4.hint()\n",
        "#step_4.solution()"
      ]
    },
    {
      "cell_type": "markdown",
      "metadata": {
        "id": "rtgUxEiA_sSZ"
      },
      "source": [
        "## Think About Your Results\n",
        "\n",
        "Use the `head` method to compare the top few predictions to the actual home values (in `y`) for those same homes. Anything surprising?\n"
      ]
    },
    {
      "cell_type": "code",
      "execution_count": null,
      "metadata": {
        "execution": {
          "iopub.execute_input": "2024-09-18T06:27:33.583543Z",
          "iopub.status.busy": "2024-09-18T06:27:33.583146Z",
          "iopub.status.idle": "2024-09-18T06:27:33.599017Z",
          "shell.execute_reply": "2024-09-18T06:27:33.598193Z",
          "shell.execute_reply.started": "2024-09-18T06:27:33.583507Z"
        },
        "id": "oKQZWK1r_sSZ",
        "outputId": "af1edf59-2a23-4640-fa75-8bd4d145c5b9"
      },
      "outputs": [
        {
          "name": "stdout",
          "output_type": "stream",
          "text": [
            "<bound method NDFrame.head of       LotArea  YearBuilt  1stFlrSF  2ndFlrSF  FullBath  BedroomAbvGr  \\\n",
            "0        8450       2003       856       854         2             3   \n",
            "1        9600       1976      1262         0         2             3   \n",
            "2       11250       2001       920       866         2             3   \n",
            "3        9550       1915       961       756         1             3   \n",
            "4       14260       2000      1145      1053         2             4   \n",
            "...       ...        ...       ...       ...       ...           ...   \n",
            "1455     7917       1999       953       694         2             3   \n",
            "1456    13175       1978      2073         0         2             3   \n",
            "1457     9042       1941      1188      1152         2             4   \n",
            "1458     9717       1950      1078         0         1             2   \n",
            "1459     9937       1965      1256         0         1             3   \n",
            "\n",
            "      TotRmsAbvGrd  \n",
            "0                8  \n",
            "1                6  \n",
            "2                6  \n",
            "3                7  \n",
            "4                9  \n",
            "...            ...  \n",
            "1455             7  \n",
            "1456             7  \n",
            "1457             9  \n",
            "1458             5  \n",
            "1459             6  \n",
            "\n",
            "[1460 rows x 7 columns]>\n",
            "<bound method NDFrame.head of 0       208500\n",
            "1       181500\n",
            "2       223500\n",
            "3       140000\n",
            "4       250000\n",
            "         ...  \n",
            "1455    175000\n",
            "1456    210000\n",
            "1457    266500\n",
            "1458    142125\n",
            "1459    147500\n",
            "Name: SalePrice, Length: 1460, dtype: int64>\n"
          ]
        }
      ],
      "source": [
        "# You can write code in this cell\n",
        "print(X.head)\n",
        "print(y.head)"
      ]
    }
  ],
  "metadata": {
    "kaggle": {
      "accelerator": "none",
      "dataSources": [
        {
          "datasetId": 2709,
          "sourceId": 38454,
          "sourceType": "datasetVersion"
        },
        {
          "datasetId": 108980,
          "sourceId": 260251,
          "sourceType": "datasetVersion"
        }
      ],
      "isGpuEnabled": false,
      "isInternetEnabled": false,
      "language": "python",
      "sourceType": "notebook"
    },
    "kernelspec": {
      "display_name": "Python 3",
      "language": "python",
      "name": "python3"
    },
    "language_info": {
      "codemirror_mode": {
        "name": "ipython",
        "version": 3
      },
      "file_extension": ".py",
      "mimetype": "text/x-python",
      "name": "python",
      "nbconvert_exporter": "python",
      "pygments_lexer": "ipython3",
      "version": "3.10.14"
    },
    "colab": {
      "provenance": []
    }
  },
  "nbformat": 4,
  "nbformat_minor": 0
}
